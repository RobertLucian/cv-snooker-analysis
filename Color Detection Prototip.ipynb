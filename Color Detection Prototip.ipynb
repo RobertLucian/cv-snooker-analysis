{
 "cells": [
  {
   "cell_type": "code",
   "execution_count": 11,
   "metadata": {},
   "outputs": [],
   "source": [
    "import cv2\n",
    "import os\n",
    "import glob\n",
    "import argparse\n",
    "import imutils\n",
    "import numpy as np\n",
    "from scipy.spatial import distance as dist\n",
    "from collections import OrderedDict"
   ]
  },
  {
   "cell_type": "code",
   "execution_count": 123,
   "metadata": {},
   "outputs": [],
   "source": [
    "class ColorLabeler:\n",
    "    def __init__(self):\n",
    "        colors = OrderedDict({\"red\": (255, 0, 0),\"green\": (0, 255, 0),\"blue\": (0, 0, 255)})\n",
    "        self.lab = np.zeros((len(colors), 1, 3), dtype=\"uint8\")\n",
    "        self.colorNames = []\n",
    "        for (i, (name, rgb)) in enumerate(colors.items()):\n",
    "            self.lab[i] = rgb\n",
    "            self.colorNames.append(name)\n",
    "        self.lab = cv2.cvtColor(self.lab, cv2.COLOR_RGB2LAB)\n",
    "    def label(self, image):\n",
    "        \n",
    "        image = cv2.erode(image, None, iterations=2)\n",
    "        mean = cv2.mean(image)[:3]\n",
    "        print(mean)\n",
    "        minDist = (np.inf, None)\n",
    "        for (i, row) in enumerate(self.lab):       \n",
    "            d = dist.euclidean(row[0], mean)\n",
    "            print(i, row,d)\n",
    "            if d < minDist[0]:\n",
    "                minDist = (d, i)\n",
    "        return self.colorNames[minDist[1]]"
   ]
  },
  {
   "cell_type": "code",
   "execution_count": 124,
   "metadata": {},
   "outputs": [],
   "source": [
    "base_folder='Balls_test'\n",
    "task1_pictures = glob.glob(os.path.join(base_folder, \"*.png\")) \n",
    "task1_pictures.sort(key = len) "
   ]
  },
  {
   "cell_type": "code",
   "execution_count": 125,
   "metadata": {},
   "outputs": [
    {
     "name": "stdout",
     "output_type": "stream",
     "text": [
      "(83.09270000000001, 95.40610000000001, 147.52800000000002)\n",
      "0 [[136 208 195]] 133.15464503538732\n",
      "1 [[224  42 211]] 163.51077485749983\n",
      "2 [[ 82 207  20]] 169.46322106728647\n"
     ]
    },
    {
     "data": {
      "text/plain": [
       "-1"
      ]
     },
     "execution_count": 125,
     "metadata": {},
     "output_type": "execute_result"
    }
   ],
   "source": [
    "image=cv2.imread(task1_pictures[3])\n",
    "height,width,canals=image.shape\n",
    "image = image[int(0.2*height):int(-0.2*height),int(0.2*width):int(-0.2*width)]\n",
    "resized = cv2.resize(image, (100,100), interpolation = cv2.INTER_AREA)\n",
    "blurred = cv2.GaussianBlur(resized, (5, 5), 0)\n",
    "lab = cv2.cvtColor(blurred, cv2.COLOR_BGR2LAB)\n",
    "cl = ColorLabeler()\n",
    "color = cl.label(lab)\n",
    "text = \"{}\".format(color)\n",
    "copy=resized.copy()\n",
    "cv2.putText(copy, text, (10, 10),cv2.FONT_HERSHEY_SIMPLEX, 0.5, (255, 255, 255), 2)\n",
    "cv2.imshow(\"Image\", copy)\n",
    "cv2.waitKey(0)"
   ]
  },
  {
   "cell_type": "code",
   "execution_count": 127,
   "metadata": {},
   "outputs": [
    {
     "name": "stdout",
     "output_type": "stream",
     "text": [
      "4.2.0\n"
     ]
    }
   ],
   "source": [
    "#import tensorflow as tf\n",
    "print(cv2.__version__)"
   ]
  },
  {
   "cell_type": "code",
   "execution_count": null,
   "metadata": {},
   "outputs": [],
   "source": []
  },
  {
   "cell_type": "code",
   "execution_count": null,
   "metadata": {},
   "outputs": [],
   "source": []
  }
 ],
 "metadata": {
  "kernelspec": {
   "display_name": "Python 3",
   "language": "python",
   "name": "python3"
  },
  "language_info": {
   "codemirror_mode": {
    "name": "ipython",
    "version": 3
   },
   "file_extension": ".py",
   "mimetype": "text/x-python",
   "name": "python",
   "nbconvert_exporter": "python",
   "pygments_lexer": "ipython3",
   "version": "3.7.6"
  }
 },
 "nbformat": 4,
 "nbformat_minor": 4
}
