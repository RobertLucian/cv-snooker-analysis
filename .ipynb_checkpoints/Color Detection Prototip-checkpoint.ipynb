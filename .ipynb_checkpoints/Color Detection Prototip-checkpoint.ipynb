{
 "cells": [
  {
   "cell_type": "code",
   "execution_count": 2,
   "metadata": {},
   "outputs": [],
   "source": [
    "import cv2\n",
    "import os "
   ]
  },
  {
   "cell_type": "code",
   "execution_count": null,
   "metadata": {},
   "outputs": [],
   "source": [
    "class ColorLabeler:\n",
    "    def __init__(self):\n",
    "    # initialize the colors dictionary, containing the color\n",
    "    # name as the key and the RGB tuple as the value\n",
    "        colors = OrderedDict({\n",
    "\t\t\t\"red\": (255, 0, 0),\n",
    "\t\t\t\"green\": (0, 255, 0),\n",
    "\t\t\t\"blue\": (0, 0, 255)})\n",
    "\t\t# allocate memory for the L*a*b* image, then initialize\n",
    "\t\t# the color names list\n",
    "\t\tself.lab = np.zeros((len(colors), 1, 3), dtype=\"uint8\")\n",
    "\t\tself.colorNames = []\n",
    "\t\t# loop over the colors dictionary\n",
    "\t\tfor (i, (name, rgb)) in enumerate(colors.items()):\n",
    "\t\t\t# update the L*a*b* array and the color names list\n",
    "\t\t\tself.lab[i] = rgb\n",
    "\t\t\tself.colorNames.append(name)\n",
    "\t\t# convert the L*a*b* array from the RGB color space\n",
    "\t\t# to L*a*b*\n",
    "\t\tself.lab = cv2.cvtColor(self.lab, cv2.COLOR_RGB2LAB)"
   ]
  }
 ],
 "metadata": {
  "kernelspec": {
   "display_name": "Python 3",
   "language": "python",
   "name": "python3"
  },
  "language_info": {
   "codemirror_mode": {
    "name": "ipython",
    "version": 3
   },
   "file_extension": ".py",
   "mimetype": "text/x-python",
   "name": "python",
   "nbconvert_exporter": "python",
   "pygments_lexer": "ipython3",
   "version": "3.7.6"
  }
 },
 "nbformat": 4,
 "nbformat_minor": 4
}
